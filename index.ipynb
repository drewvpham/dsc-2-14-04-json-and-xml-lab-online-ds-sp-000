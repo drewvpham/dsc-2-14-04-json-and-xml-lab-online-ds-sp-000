{
 "cells": [
  {
   "cell_type": "markdown",
   "metadata": {},
   "source": [
    "# JSON and XML - Lab"
   ]
  },
  {
   "cell_type": "markdown",
   "metadata": {},
   "source": [
    "## Introduction\n",
    "\n",
    "In this lab, we'll continue investigating new formats for datasets. Specifically, we'll investigate two of the most popular data formats for the web: JSON and XML including strenghts and weaknesses."
   ]
  },
  {
   "cell_type": "markdown",
   "metadata": {},
   "source": [
    "## Objectives\n",
    "You will be able to:\n",
    "* Effectively use the JSON module to load and parse JSON documents\n",
    "* Read and access data stored in JSON and XML\n",
    "* Compare  and contrast the JSON and XML as data interchange types\n"
   ]
  },
  {
   "cell_type": "markdown",
   "metadata": {},
   "source": [
    "## XML"
   ]
  },
  {
   "cell_type": "code",
   "execution_count": 1,
   "metadata": {},
   "outputs": [],
   "source": [
    "import xml.etree.ElementTree as ET"
   ]
  },
  {
   "cell_type": "markdown",
   "metadata": {},
   "source": [
    "### Create an XML tree and retrieve the root tag."
   ]
  },
  {
   "cell_type": "code",
   "execution_count": 3,
   "metadata": {},
   "outputs": [],
   "source": [
    "tree = ET.parse('nyc_2001_campaign_finance.xml')\n",
    "root = tree.getroot()"
   ]
  },
  {
   "cell_type": "markdown",
   "metadata": {},
   "source": [
    "### How many direct descendents does the root tag have?"
   ]
  },
  {
   "cell_type": "code",
   "execution_count": 4,
   "metadata": {},
   "outputs": [
    {
     "name": "stdout",
     "output_type": "stream",
     "text": [
      "1\n"
     ]
    }
   ],
   "source": [
    "#Answer: 1\n",
    "count=0\n",
    "for child in root:\n",
    "    count+=1\n",
    "print count"
   ]
  },
  {
   "cell_type": "markdown",
   "metadata": {},
   "source": [
    "### How many different types of tags are there within the entire XML file?"
   ]
  },
  {
   "cell_type": "code",
   "execution_count": 7,
   "metadata": {},
   "outputs": [
    {
     "name": "stdout",
     "output_type": "stream",
     "text": [
      "Child:\n",
      "\n",
      "('row', {})\n",
      "Grandchildren:\n",
      "285\n"
     ]
    }
   ],
   "source": [
    "count = 0\n",
    "for child in root:\n",
    "    print('Child:\\n')\n",
    "    print(child.tag, child.attrib)\n",
    "    print('Grandchildren:')\n",
    "    for grandchild in child:\n",
    "        count += 1\n",
    "    \n",
    "print(count)"
   ]
  },
  {
   "cell_type": "markdown",
   "metadata": {},
   "source": [
    "### Create a DataFrame listing the number of each type of tag. \n",
    "Sort the DataFrame in descending order by the tag count. The first entry should demonstrate there are 286 row tags in the XML file.   \n",
    "(Your DataFrame will be a single column, so could also be thought of as a Series.)"
   ]
  },
  {
   "cell_type": "code",
   "execution_count": 6,
   "metadata": {},
   "outputs": [],
   "source": [
    "import pandas as pd"
   ]
  },
  {
   "cell_type": "code",
   "execution_count": 12,
   "metadata": {},
   "outputs": [
    {
     "data": {
      "text/html": [
       "<div>\n",
       "<style scoped>\n",
       "    .dataframe tbody tr th:only-of-type {\n",
       "        vertical-align: middle;\n",
       "    }\n",
       "\n",
       "    .dataframe tbody tr th {\n",
       "        vertical-align: top;\n",
       "    }\n",
       "\n",
       "    .dataframe thead th {\n",
       "        text-align: right;\n",
       "    }\n",
       "</style>\n",
       "<table border=\"1\" class=\"dataframe\">\n",
       "  <thead>\n",
       "    <tr style=\"text-align: right;\">\n",
       "      <th></th>\n",
       "      <th>count</th>\n",
       "    </tr>\n",
       "  </thead>\n",
       "  <tbody>\n",
       "    <tr>\n",
       "      <th>0</th>\n",
       "      <td>285</td>\n",
       "    </tr>\n",
       "  </tbody>\n",
       "</table>\n",
       "</div>"
      ],
      "text/plain": [
       "   count\n",
       "0    285"
      ]
     },
     "execution_count": 12,
     "metadata": {},
     "output_type": "execute_result"
    }
   ],
   "source": [
    "#Your code here\n",
    "pd.DataFrame({'count':[count]})"
   ]
  },
  {
   "cell_type": "markdown",
   "metadata": {},
   "source": [
    "## JSON"
   ]
  },
  {
   "cell_type": "markdown",
   "metadata": {},
   "source": [
    "### Open the same dataset from json"
   ]
  },
  {
   "cell_type": "code",
   "execution_count": 13,
   "metadata": {},
   "outputs": [
    {
     "name": "stdout",
     "output_type": "stream",
     "text": [
      "<type 'dict'>\n"
     ]
    }
   ],
   "source": [
    "#Your code here\n",
    "import json\n",
    "f = open('nyc_2001_campaign_finance.json')\n",
    "data = json.load(f)\n",
    "print(type(data))"
   ]
  },
  {
   "cell_type": "markdown",
   "metadata": {},
   "source": [
    "### What is the root data type of the json file?"
   ]
  },
  {
   "cell_type": "code",
   "execution_count": 14,
   "metadata": {},
   "outputs": [
    {
     "data": {
      "text/plain": [
       "[u'meta', u'data']"
      ]
     },
     "execution_count": 14,
     "metadata": {},
     "output_type": "execute_result"
    }
   ],
   "source": [
    "### Your code here\n",
    "data.keys()"
   ]
  },
  {
   "cell_type": "markdown",
   "metadata": {},
   "source": [
    "### Navigate to the 'data' key of your loaded json object. What data type is this?"
   ]
  },
  {
   "cell_type": "code",
   "execution_count": 16,
   "metadata": {},
   "outputs": [
    {
     "data": {
      "text/plain": [
       "list"
      ]
     },
     "execution_count": 16,
     "metadata": {},
     "output_type": "execute_result"
    }
   ],
   "source": [
    "#Your code here\n",
    "type(data['data'])"
   ]
  },
  {
   "cell_type": "markdown",
   "metadata": {},
   "source": [
    "### Preview the first entry from the value returned by the 'data' key above."
   ]
  },
  {
   "cell_type": "code",
   "execution_count": 17,
   "metadata": {},
   "outputs": [
    {
     "data": {
      "text/plain": [
       "[1,\n",
       " u'E3E9CC9F-7443-43F6-94AF-B5A0F802DBA1',\n",
       " 1,\n",
       " 1315925633,\n",
       " u'392904',\n",
       " 1315925633,\n",
       " u'392904',\n",
       " u'{\\n  \"invalidCells\" : {\\n    \"1519001\" : \"TOTALPAY\",\\n    \"1518998\" : \"PRIMARYPAY\",\\n    \"1519000\" : \"RUNOFFPAY\",\\n    \"1518999\" : \"GENERALPAY\",\\n    \"1518994\" : \"OFFICECD\",\\n    \"1518996\" : \"OFFICEDIST\",\\n    \"1518991\" : \"ELECTION\"\\n  }\\n}',\n",
       " None,\n",
       " u'CANDID',\n",
       " u'CANDNAME',\n",
       " None,\n",
       " u'OFFICEBORO',\n",
       " None,\n",
       " u'CANCLASS',\n",
       " None,\n",
       " None,\n",
       " None,\n",
       " None]"
      ]
     },
     "execution_count": 17,
     "metadata": {},
     "output_type": "execute_result"
    }
   ],
   "source": [
    "#Your code here\n",
    "data['data'][0]"
   ]
  },
  {
   "cell_type": "markdown",
   "metadata": {},
   "source": [
    "### Preview the Entry under meta -> view -> columns (the keys of three successively nested dictionaries)"
   ]
  },
  {
   "cell_type": "code",
   "execution_count": 18,
   "metadata": {},
   "outputs": [
    {
     "data": {
      "text/plain": [
       "[{u'dataTypeName': u'meta_data',\n",
       "  u'fieldName': u':sid',\n",
       "  u'flags': [u'hidden'],\n",
       "  u'format': {},\n",
       "  u'id': -1,\n",
       "  u'name': u'sid',\n",
       "  u'position': 0,\n",
       "  u'renderTypeName': u'meta_data'},\n",
       " {u'dataTypeName': u'meta_data',\n",
       "  u'fieldName': u':id',\n",
       "  u'flags': [u'hidden'],\n",
       "  u'format': {},\n",
       "  u'id': -1,\n",
       "  u'name': u'id',\n",
       "  u'position': 0,\n",
       "  u'renderTypeName': u'meta_data'},\n",
       " {u'dataTypeName': u'meta_data',\n",
       "  u'fieldName': u':position',\n",
       "  u'flags': [u'hidden'],\n",
       "  u'format': {},\n",
       "  u'id': -1,\n",
       "  u'name': u'position',\n",
       "  u'position': 0,\n",
       "  u'renderTypeName': u'meta_data'},\n",
       " {u'dataTypeName': u'meta_data',\n",
       "  u'fieldName': u':created_at',\n",
       "  u'flags': [u'hidden'],\n",
       "  u'format': {},\n",
       "  u'id': -1,\n",
       "  u'name': u'created_at',\n",
       "  u'position': 0,\n",
       "  u'renderTypeName': u'meta_data'},\n",
       " {u'dataTypeName': u'meta_data',\n",
       "  u'fieldName': u':created_meta',\n",
       "  u'flags': [u'hidden'],\n",
       "  u'format': {},\n",
       "  u'id': -1,\n",
       "  u'name': u'created_meta',\n",
       "  u'position': 0,\n",
       "  u'renderTypeName': u'meta_data'},\n",
       " {u'dataTypeName': u'meta_data',\n",
       "  u'fieldName': u':updated_at',\n",
       "  u'flags': [u'hidden'],\n",
       "  u'format': {},\n",
       "  u'id': -1,\n",
       "  u'name': u'updated_at',\n",
       "  u'position': 0,\n",
       "  u'renderTypeName': u'meta_data'},\n",
       " {u'dataTypeName': u'meta_data',\n",
       "  u'fieldName': u':updated_meta',\n",
       "  u'flags': [u'hidden'],\n",
       "  u'format': {},\n",
       "  u'id': -1,\n",
       "  u'name': u'updated_meta',\n",
       "  u'position': 0,\n",
       "  u'renderTypeName': u'meta_data'},\n",
       " {u'dataTypeName': u'meta_data',\n",
       "  u'fieldName': u':meta',\n",
       "  u'flags': [u'hidden'],\n",
       "  u'format': {},\n",
       "  u'id': -1,\n",
       "  u'name': u'meta',\n",
       "  u'position': 0,\n",
       "  u'renderTypeName': u'meta_data'},\n",
       " {u'cachedContents': {u'average': u'2001',\n",
       "   u'largest': u'2001',\n",
       "   u'non_null': 284,\n",
       "   u'null': 1,\n",
       "   u'smallest': u'2001',\n",
       "   u'sum': u'568284',\n",
       "   u'top': [{u'count': 20, u'item': u'2001'}]},\n",
       "  u'dataTypeName': u'number',\n",
       "  u'fieldName': u'election',\n",
       "  u'format': {u'align': u'right',\n",
       "   u'noCommas': u'true',\n",
       "   u'precisionStyle': u'standard'},\n",
       "  u'id': 75768833,\n",
       "  u'name': u'ELECTION',\n",
       "  u'position': 2,\n",
       "  u'renderTypeName': u'number',\n",
       "  u'tableColumnId': 1518991,\n",
       "  u'width': 196},\n",
       " {u'cachedContents': {u'largest': u'YA',\n",
       "   u'non_null': 285,\n",
       "   u'null': 0,\n",
       "   u'smallest': u'148',\n",
       "   u'top': [{u'count': 20, u'item': u'490'},\n",
       "    {u'count': 19, u'item': u'577'},\n",
       "    {u'count': 18, u'item': u'GF'},\n",
       "    {u'count': 17, u'item': u'265'},\n",
       "    {u'count': 16, u'item': u'549'},\n",
       "    {u'count': 15, u'item': u'260'},\n",
       "    {u'count': 14, u'item': u'DH'},\n",
       "    {u'count': 13, u'item': u'168'},\n",
       "    {u'count': 12, u'item': u'561'},\n",
       "    {u'count': 11, u'item': u'317'},\n",
       "    {u'count': 10, u'item': u'240'},\n",
       "    {u'count': 9, u'item': u'B1'},\n",
       "    {u'count': 8, u'item': u'337'},\n",
       "    {u'count': 7, u'item': u'202'},\n",
       "    {u'count': 6, u'item': u'DP'},\n",
       "    {u'count': 5, u'item': u'554'},\n",
       "    {u'count': 4, u'item': u'529'},\n",
       "    {u'count': 3, u'item': u'521'},\n",
       "    {u'count': 2, u'item': u'CY'},\n",
       "    {u'count': 1, u'item': u'327'}]},\n",
       "  u'dataTypeName': u'text',\n",
       "  u'fieldName': u'candid',\n",
       "  u'format': {},\n",
       "  u'id': 75768834,\n",
       "  u'name': u'CANDID',\n",
       "  u'position': 3,\n",
       "  u'renderTypeName': u'text',\n",
       "  u'tableColumnId': 1518992,\n",
       "  u'width': 172},\n",
       " {u'cachedContents': {u'largest': u'Zett, Lori M',\n",
       "   u'non_null': 285,\n",
       "   u'null': 0,\n",
       "   u'smallest': u'Aboulafia, Sandy',\n",
       "   u'top': [{u'count': 20, u'item': u'Taitt, Samuel A'},\n",
       "    {u'count': 19, u'item': u'Taliaferro, Phyllis'},\n",
       "    {u'count': 18, u'item': u'Taveras, Germania'},\n",
       "    {u'count': 17, u'item': u'Thakral, Jairam D'},\n",
       "    {u'count': 16, u'item': u'Thomas, Carl W'},\n",
       "    {u'count': 15, u'item': u'Thompson, Jr., William C'},\n",
       "    {u'count': 14, u'item': u'Tiraco, Joseph E'},\n",
       "    {u'count': 13, u'item': u'Toney, Vaughan'},\n",
       "    {u'count': 12, u'item': u'Toppin, Roger N'},\n",
       "    {u'count': 11, u'item': u'Torres, Mario A'},\n",
       "    {u'count': 10, u'item': u'Vallone, Jr., Peter F'},\n",
       "    {u'count': 9, u'item': u'Vallone, Peter F'},\n",
       "    {u'count': 8, u'item': u'Van Bramer, James G'},\n",
       "    {u'count': 7, u'item': u'Vann, Albert'},\n",
       "    {u'count': 6, u'item': u'Vargas, Ruben Dario'},\n",
       "    {u'count': 5, u'item': u'Vassos, Sandra'},\n",
       "    {u'count': 4, u'item': u'Vernet, Jean D'},\n",
       "    {u'count': 3, u'item': u'Viest, Nicholas D'},\n",
       "    {u'count': 2, u'item': u'Villaverde, Sergio'},\n",
       "    {u'count': 1, u'item': u'Vogel, Mark H'}]},\n",
       "  u'dataTypeName': u'text',\n",
       "  u'fieldName': u'candname',\n",
       "  u'format': {},\n",
       "  u'id': 75768835,\n",
       "  u'name': u'CANDNAME',\n",
       "  u'position': 4,\n",
       "  u'renderTypeName': u'text',\n",
       "  u'tableColumnId': 1518993,\n",
       "  u'width': 196},\n",
       " {u'cachedContents': {u'average': u'4.700704225352113',\n",
       "   u'largest': u'5',\n",
       "   u'non_null': 284,\n",
       "   u'null': 1,\n",
       "   u'smallest': u'1',\n",
       "   u'sum': u'1335',\n",
       "   u'top': [{u'count': 20, u'item': u'5'},\n",
       "    {u'count': 19, u'item': u'1'},\n",
       "    {u'count': 18, u'item': u'3'},\n",
       "    {u'count': 17, u'item': u'4'},\n",
       "    {u'count': 16, u'item': u'2'}]},\n",
       "  u'dataTypeName': u'number',\n",
       "  u'fieldName': u'officecd',\n",
       "  u'format': {},\n",
       "  u'id': 75768836,\n",
       "  u'name': u'OFFICECD',\n",
       "  u'position': 5,\n",
       "  u'renderTypeName': u'number',\n",
       "  u'tableColumnId': 1518994,\n",
       "  u'width': 196},\n",
       " {u'cachedContents': {u'largest': u'X',\n",
       "   u'non_null': 21,\n",
       "   u'null': 264,\n",
       "   u'smallest': u'K',\n",
       "   u'top': [{u'count': 20, u'item': u'OFFICEBORO'},\n",
       "    {u'count': 19, u'item': u'X'},\n",
       "    {u'count': 18, u'item': u'M'},\n",
       "    {u'count': 17, u'item': u'K'},\n",
       "    {u'count': 16, u'item': u'Q'},\n",
       "    {u'count': 15, u'item': u'S'}]},\n",
       "  u'dataTypeName': u'text',\n",
       "  u'fieldName': u'officeboro',\n",
       "  u'format': {},\n",
       "  u'id': 75768837,\n",
       "  u'name': u'OFFICEBORO',\n",
       "  u'position': 6,\n",
       "  u'renderTypeName': u'text',\n",
       "  u'tableColumnId': 1518995,\n",
       "  u'width': 220},\n",
       " {u'cachedContents': {u'average': u'26.33061224489796',\n",
       "   u'largest': u'51',\n",
       "   u'non_null': 245,\n",
       "   u'null': 40,\n",
       "   u'smallest': u'1',\n",
       "   u'sum': u'6451',\n",
       "   u'top': [{u'count': 20, u'item': u'7'},\n",
       "    {u'count': 19, u'item': u'32'},\n",
       "    {u'count': 18, u'item': u'37'},\n",
       "    {u'count': 17, u'item': u'28'},\n",
       "    {u'count': 16, u'item': u'19'},\n",
       "    {u'count': 15, u'item': u'39'},\n",
       "    {u'count': 14, u'item': u'35'},\n",
       "    {u'count': 13, u'item': u'42'},\n",
       "    {u'count': 12, u'item': u'31'},\n",
       "    {u'count': 11, u'item': u'6'},\n",
       "    {u'count': 10, u'item': u'47'},\n",
       "    {u'count': 9, u'item': u'20'},\n",
       "    {u'count': 8, u'item': u'1'},\n",
       "    {u'count': 7, u'item': u'27'},\n",
       "    {u'count': 6, u'item': u'26'},\n",
       "    {u'count': 5, u'item': u'10'},\n",
       "    {u'count': 4, u'item': u'34'},\n",
       "    {u'count': 3, u'item': u'45'},\n",
       "    {u'count': 2, u'item': u'40'},\n",
       "    {u'count': 1, u'item': u'12'}]},\n",
       "  u'dataTypeName': u'number',\n",
       "  u'fieldName': u'officedist',\n",
       "  u'format': {},\n",
       "  u'id': 75768838,\n",
       "  u'name': u'OFFICEDIST',\n",
       "  u'position': 7,\n",
       "  u'renderTypeName': u'number',\n",
       "  u'tableColumnId': 1518996,\n",
       "  u'width': 220},\n",
       " {u'cachedContents': {u'largest': u'P',\n",
       "   u'non_null': 285,\n",
       "   u'null': 0,\n",
       "   u'smallest': u'CANCLASS',\n",
       "   u'top': [{u'count': 20, u'item': u'CANCLASS'},\n",
       "    {u'count': 19, u'item': u'P'}]},\n",
       "  u'dataTypeName': u'text',\n",
       "  u'fieldName': u'canclass',\n",
       "  u'format': {},\n",
       "  u'id': 75768839,\n",
       "  u'name': u'CANCLASS',\n",
       "  u'position': 8,\n",
       "  u'renderTypeName': u'text',\n",
       "  u'tableColumnId': 1518997,\n",
       "  u'width': 196},\n",
       " {u'cachedContents': {u'average': u'112243.9612676056',\n",
       "   u'largest': u'2846148.00',\n",
       "   u'non_null': 284,\n",
       "   u'null': 1,\n",
       "   u'smallest': u'0',\n",
       "   u'sum': u'31877285.00',\n",
       "   u'top': [{u'count': 20, u'item': u'75350.00'},\n",
       "    {u'count': 19, u'item': u'0'},\n",
       "    {u'count': 18, u'item': u'91333.00'},\n",
       "    {u'count': 17, u'item': u'69780.00'},\n",
       "    {u'count': 16, u'item': u'22172.00'},\n",
       "    {u'count': 15, u'item': u'65356.00'},\n",
       "    {u'count': 14, u'item': u'11423.00'},\n",
       "    {u'count': 13, u'item': u'60152.00'},\n",
       "    {u'count': 12, u'item': u'75040.00'},\n",
       "    {u'count': 11, u'item': u'62436.00'},\n",
       "    {u'count': 10, u'item': u'42075.00'},\n",
       "    {u'count': 9, u'item': u'74920.00'},\n",
       "    {u'count': 8, u'item': u'38088.00'},\n",
       "    {u'count': 7, u'item': u'74850.00'},\n",
       "    {u'count': 6, u'item': u'89502.00'},\n",
       "    {u'count': 5, u'item': u'74350.00'},\n",
       "    {u'count': 4, u'item': u'58348.00'},\n",
       "    {u'count': 3, u'item': u'55100.00'},\n",
       "    {u'count': 2, u'item': u'508893.00'},\n",
       "    {u'count': 1, u'item': u'74750.00'}]},\n",
       "  u'dataTypeName': u'number',\n",
       "  u'fieldName': u'primarypay',\n",
       "  u'format': {},\n",
       "  u'id': 75768840,\n",
       "  u'name': u'PRIMARYPAY',\n",
       "  u'position': 9,\n",
       "  u'renderTypeName': u'number',\n",
       "  u'tableColumnId': 1518998,\n",
       "  u'width': 220},\n",
       " {u'cachedContents': {u'average': u'28753.57394366197',\n",
       "   u'largest': u'976545.00',\n",
       "   u'non_null': 284,\n",
       "   u'null': 1,\n",
       "   u'smallest': u'0',\n",
       "   u'sum': u'8166015.00',\n",
       "   u'top': [{u'count': 20, u'item': u'0'},\n",
       "    {u'count': 19, u'item': u'75350.00'},\n",
       "    {u'count': 18, u'item': u'201131.00'},\n",
       "    {u'count': 17, u'item': u'39760.00'},\n",
       "    {u'count': 16, u'item': u'57796.00'},\n",
       "    {u'count': 15, u'item': u'75200.00'},\n",
       "    {u'count': 14, u'item': u'68234.00'},\n",
       "    {u'count': 13, u'item': u'5732.00'},\n",
       "    {u'count': 12, u'item': u'58488.00'},\n",
       "    {u'count': 11, u'item': u'62184.00'},\n",
       "    {u'count': 10, u'item': u'44748.00'},\n",
       "    {u'count': 9, u'item': u'21946.00'},\n",
       "    {u'count': 8, u'item': u'70500.00'}]},\n",
       "  u'dataTypeName': u'number',\n",
       "  u'fieldName': u'generalpay',\n",
       "  u'format': {},\n",
       "  u'id': 75768841,\n",
       "  u'name': u'GENERALPAY',\n",
       "  u'position': 10,\n",
       "  u'renderTypeName': u'number',\n",
       "  u'tableColumnId': 1518999,\n",
       "  u'width': 220},\n",
       " {u'cachedContents': {u'average': u'7776.778169014085',\n",
       "   u'largest': u'711537.00',\n",
       "   u'non_null': 284,\n",
       "   u'null': 1,\n",
       "   u'smallest': u'0',\n",
       "   u'sum': u'2208605.00',\n",
       "   u'top': [{u'count': 20, u'item': u'0'},\n",
       "    {u'count': 19, u'item': u'267331.00'},\n",
       "    {u'count': 18, u'item': u'574387.00'},\n",
       "    {u'count': 17, u'item': u'303270.00'},\n",
       "    {u'count': 16, u'item': u'711537.00'},\n",
       "    {u'count': 15, u'item': u'114407.00'},\n",
       "    {u'count': 14, u'item': u'237673.00'}]},\n",
       "  u'dataTypeName': u'number',\n",
       "  u'fieldName': u'runoffpay',\n",
       "  u'format': {},\n",
       "  u'id': 75768842,\n",
       "  u'name': u'RUNOFFPAY',\n",
       "  u'position': 11,\n",
       "  u'renderTypeName': u'number',\n",
       "  u'tableColumnId': 1519000,\n",
       "  u'width': 208},\n",
       " {u'cachedContents': {u'average': u'148774.3133802817',\n",
       "   u'largest': u'4534230.00',\n",
       "   u'non_null': 284,\n",
       "   u'null': 1,\n",
       "   u'smallest': u'0',\n",
       "   u'sum': u'42251905.00',\n",
       "   u'top': [{u'count': 20, u'item': u'0'},\n",
       "    {u'count': 19, u'item': u'75350.00'},\n",
       "    {u'count': 18, u'item': u'150700.00'},\n",
       "    {u'count': 17, u'item': u'2458534.00'},\n",
       "    {u'count': 16, u'item': u'133146.00'},\n",
       "    {u'count': 15, u'item': u'75200.00'},\n",
       "    {u'count': 14, u'item': u'68234.00'},\n",
       "    {u'count': 13, u'item': u'70664.00'},\n",
       "    {u'count': 12, u'item': u'58488.00'},\n",
       "    {u'count': 11, u'item': u'50112.00'},\n",
       "    {u'count': 10, u'item': u'62184.00'},\n",
       "    {u'count': 9, u'item': u'44748.00'},\n",
       "    {u'count': 8, u'item': u'21946.00'},\n",
       "    {u'count': 7, u'item': u'41656.00'},\n",
       "    {u'count': 6, u'item': u'61260.00'},\n",
       "    {u'count': 5, u'item': u'145850.00'},\n",
       "    {u'count': 4, u'item': u'35808.00'},\n",
       "    {u'count': 3, u'item': u'12172.00'}]},\n",
       "  u'dataTypeName': u'number',\n",
       "  u'fieldName': u'totalpay',\n",
       "  u'format': {},\n",
       "  u'id': 75768843,\n",
       "  u'name': u'TOTALPAY',\n",
       "  u'position': 12,\n",
       "  u'renderTypeName': u'number',\n",
       "  u'tableColumnId': 1519001,\n",
       "  u'width': 196}]"
      ]
     },
     "execution_count": 18,
     "metadata": {},
     "output_type": "execute_result"
    }
   ],
   "source": [
    "data['meta']['view']['columns']"
   ]
  },
  {
   "cell_type": "markdown",
   "metadata": {},
   "source": [
    "### Create a DataFrame from your json data\n",
    "The previous two questions previewed one entry from the data object within the json file, as well as the column details associated with that data from the meta entry within the json file. Both should have 19 entries. Create a DataFrame of the data. Be sure to use the information from the meta entry to add appropriate column names to your DataFrame."
   ]
  },
  {
   "cell_type": "code",
   "execution_count": 20,
   "metadata": {},
   "outputs": [
    {
     "data": {
      "text/html": [
       "<div>\n",
       "<style scoped>\n",
       "    .dataframe tbody tr th:only-of-type {\n",
       "        vertical-align: middle;\n",
       "    }\n",
       "\n",
       "    .dataframe tbody tr th {\n",
       "        vertical-align: top;\n",
       "    }\n",
       "\n",
       "    .dataframe thead th {\n",
       "        text-align: right;\n",
       "    }\n",
       "</style>\n",
       "<table border=\"1\" class=\"dataframe\">\n",
       "  <thead>\n",
       "    <tr style=\"text-align: right;\">\n",
       "      <th></th>\n",
       "      <th>sid</th>\n",
       "      <th>id</th>\n",
       "      <th>position</th>\n",
       "      <th>created_at</th>\n",
       "      <th>created_meta</th>\n",
       "      <th>updated_at</th>\n",
       "      <th>updated_meta</th>\n",
       "      <th>meta</th>\n",
       "      <th>ELECTION</th>\n",
       "      <th>CANDID</th>\n",
       "      <th>CANDNAME</th>\n",
       "      <th>OFFICECD</th>\n",
       "      <th>OFFICEBORO</th>\n",
       "      <th>OFFICEDIST</th>\n",
       "      <th>CANCLASS</th>\n",
       "      <th>PRIMARYPAY</th>\n",
       "      <th>GENERALPAY</th>\n",
       "      <th>RUNOFFPAY</th>\n",
       "      <th>TOTALPAY</th>\n",
       "    </tr>\n",
       "  </thead>\n",
       "  <tbody>\n",
       "    <tr>\n",
       "      <th>0</th>\n",
       "      <td>1</td>\n",
       "      <td>E3E9CC9F-7443-43F6-94AF-B5A0F802DBA1</td>\n",
       "      <td>1</td>\n",
       "      <td>1315925633</td>\n",
       "      <td>392904</td>\n",
       "      <td>1315925633</td>\n",
       "      <td>392904</td>\n",
       "      <td>{\\n  \"invalidCells\" : {\\n    \"1519001\" : \"TOTA...</td>\n",
       "      <td>None</td>\n",
       "      <td>CANDID</td>\n",
       "      <td>CANDNAME</td>\n",
       "      <td>None</td>\n",
       "      <td>OFFICEBORO</td>\n",
       "      <td>None</td>\n",
       "      <td>CANCLASS</td>\n",
       "      <td>None</td>\n",
       "      <td>None</td>\n",
       "      <td>None</td>\n",
       "      <td>None</td>\n",
       "    </tr>\n",
       "    <tr>\n",
       "      <th>1</th>\n",
       "      <td>2</td>\n",
       "      <td>9D257416-581A-4C42-85CC-B6EAD9DED97F</td>\n",
       "      <td>2</td>\n",
       "      <td>1315925633</td>\n",
       "      <td>392904</td>\n",
       "      <td>1315925633</td>\n",
       "      <td>392904</td>\n",
       "      <td>{\\n}</td>\n",
       "      <td>2001</td>\n",
       "      <td>B4</td>\n",
       "      <td>Aboulafia, Sandy</td>\n",
       "      <td>5</td>\n",
       "      <td>None</td>\n",
       "      <td>44</td>\n",
       "      <td>P</td>\n",
       "      <td>45410.00</td>\n",
       "      <td>0</td>\n",
       "      <td>0</td>\n",
       "      <td>45410.00</td>\n",
       "    </tr>\n",
       "    <tr>\n",
       "      <th>2</th>\n",
       "      <td>3</td>\n",
       "      <td>B80D7891-93CF-49E8-86E8-182B618E68F2</td>\n",
       "      <td>3</td>\n",
       "      <td>1315925633</td>\n",
       "      <td>392904</td>\n",
       "      <td>1315925633</td>\n",
       "      <td>392904</td>\n",
       "      <td>{\\n}</td>\n",
       "      <td>2001</td>\n",
       "      <td>445</td>\n",
       "      <td>Adams, Jackie R</td>\n",
       "      <td>5</td>\n",
       "      <td>None</td>\n",
       "      <td>7</td>\n",
       "      <td>P</td>\n",
       "      <td>11073.00</td>\n",
       "      <td>0</td>\n",
       "      <td>0</td>\n",
       "      <td>11073.00</td>\n",
       "    </tr>\n",
       "    <tr>\n",
       "      <th>3</th>\n",
       "      <td>4</td>\n",
       "      <td>BB012003-78F5-406D-8A87-7FF8A425EE3F</td>\n",
       "      <td>4</td>\n",
       "      <td>1315925633</td>\n",
       "      <td>392904</td>\n",
       "      <td>1315925633</td>\n",
       "      <td>392904</td>\n",
       "      <td>{\\n}</td>\n",
       "      <td>2001</td>\n",
       "      <td>HF</td>\n",
       "      <td>Addabbo, Joseph P</td>\n",
       "      <td>5</td>\n",
       "      <td>None</td>\n",
       "      <td>32</td>\n",
       "      <td>P</td>\n",
       "      <td>75350.00</td>\n",
       "      <td>73970.00</td>\n",
       "      <td>0</td>\n",
       "      <td>149320.00</td>\n",
       "    </tr>\n",
       "    <tr>\n",
       "      <th>4</th>\n",
       "      <td>5</td>\n",
       "      <td>945825F9-2F5D-47C2-A16B-75B93E61E1AD</td>\n",
       "      <td>5</td>\n",
       "      <td>1315925633</td>\n",
       "      <td>392904</td>\n",
       "      <td>1315925633</td>\n",
       "      <td>392904</td>\n",
       "      <td>{\\n}</td>\n",
       "      <td>2001</td>\n",
       "      <td>IR</td>\n",
       "      <td>Alamo-Estrada, Agustin</td>\n",
       "      <td>5</td>\n",
       "      <td>None</td>\n",
       "      <td>14</td>\n",
       "      <td>P</td>\n",
       "      <td>25000.00</td>\n",
       "      <td>2400.00</td>\n",
       "      <td>0</td>\n",
       "      <td>27400.00</td>\n",
       "    </tr>\n",
       "  </tbody>\n",
       "</table>\n",
       "</div>"
      ],
      "text/plain": [
       "   sid                                    id  position  created_at  \\\n",
       "0    1  E3E9CC9F-7443-43F6-94AF-B5A0F802DBA1         1  1315925633   \n",
       "1    2  9D257416-581A-4C42-85CC-B6EAD9DED97F         2  1315925633   \n",
       "2    3  B80D7891-93CF-49E8-86E8-182B618E68F2         3  1315925633   \n",
       "3    4  BB012003-78F5-406D-8A87-7FF8A425EE3F         4  1315925633   \n",
       "4    5  945825F9-2F5D-47C2-A16B-75B93E61E1AD         5  1315925633   \n",
       "\n",
       "  created_meta  updated_at updated_meta  \\\n",
       "0       392904  1315925633       392904   \n",
       "1       392904  1315925633       392904   \n",
       "2       392904  1315925633       392904   \n",
       "3       392904  1315925633       392904   \n",
       "4       392904  1315925633       392904   \n",
       "\n",
       "                                                meta ELECTION  CANDID  \\\n",
       "0  {\\n  \"invalidCells\" : {\\n    \"1519001\" : \"TOTA...     None  CANDID   \n",
       "1                                               {\\n}     2001      B4   \n",
       "2                                               {\\n}     2001     445   \n",
       "3                                               {\\n}     2001      HF   \n",
       "4                                               {\\n}     2001      IR   \n",
       "\n",
       "                 CANDNAME OFFICECD  OFFICEBORO OFFICEDIST  CANCLASS  \\\n",
       "0                CANDNAME     None  OFFICEBORO       None  CANCLASS   \n",
       "1        Aboulafia, Sandy        5        None         44         P   \n",
       "2         Adams, Jackie R        5        None          7         P   \n",
       "3       Addabbo, Joseph P        5        None         32         P   \n",
       "4  Alamo-Estrada, Agustin        5        None         14         P   \n",
       "\n",
       "  PRIMARYPAY GENERALPAY RUNOFFPAY   TOTALPAY  \n",
       "0       None       None      None       None  \n",
       "1   45410.00          0         0   45410.00  \n",
       "2   11073.00          0         0   11073.00  \n",
       "3   75350.00   73970.00         0  149320.00  \n",
       "4   25000.00    2400.00         0   27400.00  "
      ]
     },
     "execution_count": 20,
     "metadata": {},
     "output_type": "execute_result"
    }
   ],
   "source": [
    "df = pd.DataFrame(data['data'])\n",
    "cols = [i['name'] for i in data['meta']['view']['columns']]\n",
    "df.columns = cols\n",
    "df.head()"
   ]
  },
  {
   "cell_type": "code",
   "execution_count": 21,
   "metadata": {},
   "outputs": [
    {
     "data": {
      "text/plain": [
       "u'{\\n  \"invalidCells\" : {\\n    \"1519001\" : \"TOTALPAY\",\\n    \"1518998\" : \"PRIMARYPAY\",\\n    \"1519000\" : \"RUNOFFPAY\",\\n    \"1518999\" : \"GENERALPAY\",\\n    \"1518994\" : \"OFFICECD\",\\n    \"1518996\" : \"OFFICEDIST\",\\n    \"1518991\" : \"ELECTION\"\\n  }\\n}'"
      ]
     },
     "execution_count": 21,
     "metadata": {},
     "output_type": "execute_result"
    }
   ],
   "source": [
    "\n",
    "df.meta.iloc[0]"
   ]
  },
  {
   "cell_type": "markdown",
   "metadata": {},
   "source": [
    "### What's wrong with the first row of the DataFrame?"
   ]
  },
  {
   "cell_type": "markdown",
   "metadata": {},
   "source": [
    "The first row has invalidCells according to the meta data, and appears to have column names in other entries. It appears to be a faulty record of sorts."
   ]
  },
  {
   "cell_type": "markdown",
   "metadata": {},
   "source": [
    "#Your answer here"
   ]
  },
  {
   "cell_type": "markdown",
   "metadata": {},
   "source": [
    "## Summary\n",
    "\n",
    "Congratulations! You've started exploring some more complicated data structures used for the web and got to practice data munging and exploring!"
   ]
  }
 ],
 "metadata": {
  "kernelspec": {
   "display_name": "Python 3",
   "language": "python",
   "name": "python3"
  },
  "language_info": {
   "codemirror_mode": {
    "name": "ipython",
    "version": 2
   },
   "file_extension": ".py",
   "mimetype": "text/x-python",
   "name": "python",
   "nbconvert_exporter": "python",
   "pygments_lexer": "ipython2",
   "version": "2.7.10"
  }
 },
 "nbformat": 4,
 "nbformat_minor": 2
}
